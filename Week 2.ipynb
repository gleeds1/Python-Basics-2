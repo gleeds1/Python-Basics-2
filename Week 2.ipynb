{
 "cells": [
  {
   "cell_type": "code",
   "execution_count": 1,
   "id": "e5a273c3",
   "metadata": {},
   "outputs": [],
   "source": [
    "rating = (8, 6, 5, 10, 2)"
   ]
  },
  {
   "cell_type": "code",
   "execution_count": 2,
   "id": "7e93f9d1",
   "metadata": {},
   "outputs": [],
   "source": [
    "tuple1=(\"Ciao\", 4, 3.6)"
   ]
  },
  {
   "cell_type": "code",
   "execution_count": 3,
   "id": "07f78c37",
   "metadata": {},
   "outputs": [
    {
     "data": {
      "text/plain": [
       "tuple"
      ]
     },
     "execution_count": 3,
     "metadata": {},
     "output_type": "execute_result"
    }
   ],
   "source": [
    "type(tuple1)"
   ]
  },
  {
   "cell_type": "code",
   "execution_count": 4,
   "id": "6a18de04",
   "metadata": {},
   "outputs": [
    {
     "data": {
      "text/plain": [
       "'Ciao'"
      ]
     },
     "execution_count": 4,
     "metadata": {},
     "output_type": "execute_result"
    }
   ],
   "source": [
    "tuple1[0]"
   ]
  },
  {
   "cell_type": "code",
   "execution_count": 5,
   "id": "cf712558",
   "metadata": {},
   "outputs": [
    {
     "data": {
      "text/plain": [
       "4"
      ]
     },
     "execution_count": 5,
     "metadata": {},
     "output_type": "execute_result"
    }
   ],
   "source": [
    "tuple1[1]"
   ]
  },
  {
   "cell_type": "code",
   "execution_count": 6,
   "id": "1a094d79",
   "metadata": {},
   "outputs": [
    {
     "data": {
      "text/plain": [
       "3.6"
      ]
     },
     "execution_count": 6,
     "metadata": {},
     "output_type": "execute_result"
    }
   ],
   "source": [
    "tuple1[2]"
   ]
  },
  {
   "cell_type": "code",
   "execution_count": 7,
   "id": "74d2c078",
   "metadata": {},
   "outputs": [
    {
     "data": {
      "text/plain": [
       "'Ciao'"
      ]
     },
     "execution_count": 7,
     "metadata": {},
     "output_type": "execute_result"
    }
   ],
   "source": [
    "tuple1[-3]"
   ]
  },
  {
   "cell_type": "code",
   "execution_count": 8,
   "id": "810fff5f",
   "metadata": {},
   "outputs": [
    {
     "data": {
      "text/plain": [
       "4"
      ]
     },
     "execution_count": 8,
     "metadata": {},
     "output_type": "execute_result"
    }
   ],
   "source": [
    "tuple1[-2]"
   ]
  },
  {
   "cell_type": "code",
   "execution_count": 9,
   "id": "a1b19dcb",
   "metadata": {},
   "outputs": [
    {
     "data": {
      "text/plain": [
       "3.6"
      ]
     },
     "execution_count": 9,
     "metadata": {},
     "output_type": "execute_result"
    }
   ],
   "source": [
    "tuple1[-1]"
   ]
  },
  {
   "cell_type": "code",
   "execution_count": 10,
   "id": "af6f7b73",
   "metadata": {},
   "outputs": [],
   "source": [
    "tuple2 = tuple1 + (\"everyone\", 7)"
   ]
  },
  {
   "cell_type": "code",
   "execution_count": 11,
   "id": "05ed672a",
   "metadata": {},
   "outputs": [
    {
     "data": {
      "text/plain": [
       "('Ciao', 4, 3.6)"
      ]
     },
     "execution_count": 11,
     "metadata": {},
     "output_type": "execute_result"
    }
   ],
   "source": [
    "tuple2[0:3]"
   ]
  },
  {
   "cell_type": "code",
   "execution_count": 12,
   "id": "f1f9f5aa",
   "metadata": {},
   "outputs": [
    {
     "data": {
      "text/plain": [
       "('everyone', 7)"
      ]
     },
     "execution_count": 12,
     "metadata": {},
     "output_type": "execute_result"
    }
   ],
   "source": [
    "tuple2[3:5]"
   ]
  },
  {
   "cell_type": "code",
   "execution_count": 13,
   "id": "15b0c1f8",
   "metadata": {},
   "outputs": [
    {
     "data": {
      "text/plain": [
       "5"
      ]
     },
     "execution_count": 13,
     "metadata": {},
     "output_type": "execute_result"
    }
   ],
   "source": [
    "len((\"ciao\", 4, 3.6, \"everyone\", 7))"
   ]
  },
  {
   "cell_type": "code",
   "execution_count": 23,
   "id": "9f25b92c",
   "metadata": {},
   "outputs": [],
   "source": [
    "ratings = (9,6,7,12,5)"
   ]
  },
  {
   "cell_type": "code",
   "execution_count": 24,
   "id": "9b3079cb",
   "metadata": {},
   "outputs": [],
   "source": [
    "ratings1 = ratings"
   ]
  },
  {
   "cell_type": "code",
   "execution_count": 25,
   "id": "22a441ff",
   "metadata": {},
   "outputs": [],
   "source": [
    "ratingsSorted = sorted(ratings)"
   ]
  },
  {
   "cell_type": "code",
   "execution_count": 28,
   "id": "044cbe43",
   "metadata": {},
   "outputs": [],
   "source": [
    "NT=(6,4,(\"go\",\"go\"), (3,5), (\"right\",(2,4)))"
   ]
  },
  {
   "cell_type": "code",
   "execution_count": 29,
   "id": "565ca81e",
   "metadata": {},
   "outputs": [
    {
     "data": {
      "text/plain": [
       "('right', (2, 4))"
      ]
     },
     "execution_count": 29,
     "metadata": {},
     "output_type": "execute_result"
    }
   ],
   "source": [
    "NT[4]"
   ]
  },
  {
   "cell_type": "code",
   "execution_count": 30,
   "id": "56b2d23d",
   "metadata": {},
   "outputs": [
    {
     "data": {
      "text/plain": [
       "'right'"
      ]
     },
     "execution_count": 30,
     "metadata": {},
     "output_type": "execute_result"
    }
   ],
   "source": [
    "NT[4][0]"
   ]
  },
  {
   "cell_type": "code",
   "execution_count": 31,
   "id": "02fc7b49",
   "metadata": {},
   "outputs": [
    {
     "data": {
      "text/plain": [
       "'i'"
      ]
     },
     "execution_count": 31,
     "metadata": {},
     "output_type": "execute_result"
    }
   ],
   "source": [
    "NT[4][0][1]"
   ]
  },
  {
   "cell_type": "code",
   "execution_count": 57,
   "id": "5b4ec493",
   "metadata": {},
   "outputs": [],
   "source": [
    "L = [\"Gillian Leeds\",14,76]"
   ]
  },
  {
   "cell_type": "code",
   "execution_count": 58,
   "id": "a7a9a58e",
   "metadata": {},
   "outputs": [
    {
     "data": {
      "text/plain": [
       "'Gillian Leeds'"
      ]
     },
     "execution_count": 58,
     "metadata": {},
     "output_type": "execute_result"
    }
   ],
   "source": [
    "L[0]"
   ]
  },
  {
   "cell_type": "code",
   "execution_count": 59,
   "id": "fb3e34fe",
   "metadata": {},
   "outputs": [
    {
     "data": {
      "text/plain": [
       "14"
      ]
     },
     "execution_count": 59,
     "metadata": {},
     "output_type": "execute_result"
    }
   ],
   "source": [
    "L[1]"
   ]
  },
  {
   "cell_type": "code",
   "execution_count": 60,
   "id": "f74f3801",
   "metadata": {},
   "outputs": [
    {
     "data": {
      "text/plain": [
       "76"
      ]
     },
     "execution_count": 60,
     "metadata": {},
     "output_type": "execute_result"
    }
   ],
   "source": [
    "L[2]"
   ]
  },
  {
   "cell_type": "code",
   "execution_count": 61,
   "id": "cb0e92f7",
   "metadata": {},
   "outputs": [
    {
     "data": {
      "text/plain": [
       "'Gillian Leeds'"
      ]
     },
     "execution_count": 61,
     "metadata": {},
     "output_type": "execute_result"
    }
   ],
   "source": [
    "L[-3]"
   ]
  },
  {
   "cell_type": "code",
   "execution_count": 62,
   "id": "d5d0afff",
   "metadata": {},
   "outputs": [
    {
     "data": {
      "text/plain": [
       "14"
      ]
     },
     "execution_count": 62,
     "metadata": {},
     "output_type": "execute_result"
    }
   ],
   "source": [
    "L[-2]"
   ]
  },
  {
   "cell_type": "code",
   "execution_count": 63,
   "id": "94cb5dc4",
   "metadata": {},
   "outputs": [],
   "source": [
    "L1 = L+[\"ok\",5]"
   ]
  },
  {
   "cell_type": "code",
   "execution_count": 64,
   "id": "4d8b7167",
   "metadata": {},
   "outputs": [
    {
     "data": {
      "text/plain": [
       "['Gillian Leeds', 14, 76, 'ok', 5]"
      ]
     },
     "execution_count": 64,
     "metadata": {},
     "output_type": "execute_result"
    }
   ],
   "source": [
    "L1"
   ]
  },
  {
   "cell_type": "code",
   "execution_count": 65,
   "id": "43576879",
   "metadata": {},
   "outputs": [],
   "source": [
    "L.extend([\"ok\",5])"
   ]
  },
  {
   "cell_type": "code",
   "execution_count": 66,
   "id": "b42b16e3",
   "metadata": {},
   "outputs": [],
   "source": [
    "L.append(\"A\")"
   ]
  },
  {
   "cell_type": "code",
   "execution_count": 67,
   "id": "8a83d8fa",
   "metadata": {},
   "outputs": [
    {
     "data": {
      "text/plain": [
       "['Gillian Leeds', 14, 76, 'ok', 5, 'A']"
      ]
     },
     "execution_count": 67,
     "metadata": {},
     "output_type": "execute_result"
    }
   ],
   "source": [
    "L"
   ]
  },
  {
   "cell_type": "code",
   "execution_count": 70,
   "id": "64ea2b30",
   "metadata": {},
   "outputs": [],
   "source": [
    "A = [\"yes\",9,4]"
   ]
  },
  {
   "cell_type": "code",
   "execution_count": 71,
   "id": "886a5668",
   "metadata": {},
   "outputs": [],
   "source": [
    "A[0] = \"no\""
   ]
  },
  {
   "cell_type": "code",
   "execution_count": 72,
   "id": "907b9542",
   "metadata": {},
   "outputs": [
    {
     "data": {
      "text/plain": [
       "['no', 9, 4]"
      ]
     },
     "execution_count": 72,
     "metadata": {},
     "output_type": "execute_result"
    }
   ],
   "source": [
    "A"
   ]
  },
  {
   "cell_type": "code",
   "execution_count": 73,
   "id": "6bcf18bb",
   "metadata": {},
   "outputs": [],
   "source": [
    "A = [\"yes\", 9, 4]"
   ]
  },
  {
   "cell_type": "code",
   "execution_count": 74,
   "id": "f916b2df",
   "metadata": {},
   "outputs": [],
   "source": [
    "del(A[1])"
   ]
  },
  {
   "cell_type": "code",
   "execution_count": 75,
   "id": "290d8dca",
   "metadata": {},
   "outputs": [
    {
     "data": {
      "text/plain": [
       "['yes', 4]"
      ]
     },
     "execution_count": 75,
     "metadata": {},
     "output_type": "execute_result"
    }
   ],
   "source": [
    "A"
   ]
  },
  {
   "cell_type": "code",
   "execution_count": 77,
   "id": "8ef766f2",
   "metadata": {},
   "outputs": [
    {
     "data": {
      "text/plain": [
       "['A', 'B', 'C']"
      ]
     },
     "execution_count": 77,
     "metadata": {},
     "output_type": "execute_result"
    }
   ],
   "source": [
    "\"A,B,C\".split(\",\")"
   ]
  },
  {
   "cell_type": "code",
   "execution_count": 78,
   "id": "b61b442e",
   "metadata": {},
   "outputs": [],
   "source": [
    "A = [\"yes\", 9, 4]"
   ]
  },
  {
   "cell_type": "code",
   "execution_count": 79,
   "id": "886fe915",
   "metadata": {},
   "outputs": [],
   "source": [
    "B = A"
   ]
  },
  {
   "cell_type": "code",
   "execution_count": 80,
   "id": "0dbf7391",
   "metadata": {},
   "outputs": [
    {
     "data": {
      "text/plain": [
       "'yes'"
      ]
     },
     "execution_count": 80,
     "metadata": {},
     "output_type": "execute_result"
    }
   ],
   "source": [
    "B[0]"
   ]
  },
  {
   "cell_type": "code",
   "execution_count": 81,
   "id": "b4ee9719",
   "metadata": {},
   "outputs": [],
   "source": [
    "A[0]=\"maybe\""
   ]
  },
  {
   "cell_type": "code",
   "execution_count": 82,
   "id": "f085e3f0",
   "metadata": {},
   "outputs": [
    {
     "data": {
      "text/plain": [
       "'maybe'"
      ]
     },
     "execution_count": 82,
     "metadata": {},
     "output_type": "execute_result"
    }
   ],
   "source": [
    "B[0]"
   ]
  },
  {
   "cell_type": "code",
   "execution_count": 83,
   "id": "30287942",
   "metadata": {},
   "outputs": [],
   "source": [
    "B = A[:]"
   ]
  },
  {
   "cell_type": "code",
   "execution_count": 86,
   "id": "125f493b",
   "metadata": {},
   "outputs": [],
   "source": [
    "Set1 = {\"apple\",\"banana\",\"orange\"}"
   ]
  },
  {
   "cell_type": "code",
   "execution_count": 87,
   "id": "e796a189",
   "metadata": {},
   "outputs": [
    {
     "data": {
      "text/plain": [
       "{'apple', 'banana', 'orange'}"
      ]
     },
     "execution_count": 87,
     "metadata": {},
     "output_type": "execute_result"
    }
   ],
   "source": [
    "Set1"
   ]
  },
  {
   "cell_type": "code",
   "execution_count": 88,
   "id": "83f4fd3e",
   "metadata": {},
   "outputs": [],
   "source": [
    "L = [\"apple\",\"banana\",\"orange\",\"apple\", 15]"
   ]
  },
  {
   "cell_type": "code",
   "execution_count": 89,
   "id": "321aba41",
   "metadata": {},
   "outputs": [],
   "source": [
    "Set1 = set(L)"
   ]
  },
  {
   "cell_type": "code",
   "execution_count": 90,
   "id": "fe1cbd95",
   "metadata": {},
   "outputs": [
    {
     "data": {
      "text/plain": [
       "{15, 'apple', 'banana', 'orange'}"
      ]
     },
     "execution_count": 90,
     "metadata": {},
     "output_type": "execute_result"
    }
   ],
   "source": [
    "Set1"
   ]
  },
  {
   "cell_type": "code",
   "execution_count": 91,
   "id": "54bf2a55",
   "metadata": {},
   "outputs": [],
   "source": [
    "B = {\"orange\",\"yellow\",\"red\",\"green\"}"
   ]
  },
  {
   "cell_type": "code",
   "execution_count": 92,
   "id": "08851f09",
   "metadata": {},
   "outputs": [],
   "source": [
    "B.add(\"blue\")"
   ]
  },
  {
   "cell_type": "code",
   "execution_count": 93,
   "id": "3c1614dd",
   "metadata": {},
   "outputs": [
    {
     "data": {
      "text/plain": [
       "{'blue', 'green', 'orange', 'red', 'yellow'}"
      ]
     },
     "execution_count": 93,
     "metadata": {},
     "output_type": "execute_result"
    }
   ],
   "source": [
    "B"
   ]
  },
  {
   "cell_type": "code",
   "execution_count": 95,
   "id": "e5743011",
   "metadata": {},
   "outputs": [],
   "source": [
    "B = {\"orange\",\"yellow\",\"red\",\"green\",\"blue\"}"
   ]
  },
  {
   "cell_type": "code",
   "execution_count": 97,
   "id": "41e838e8",
   "metadata": {},
   "outputs": [],
   "source": [
    "B.remove(\"blue\")"
   ]
  },
  {
   "cell_type": "code",
   "execution_count": 98,
   "id": "0d167cec",
   "metadata": {},
   "outputs": [
    {
     "data": {
      "text/plain": [
       "{'green', 'orange', 'red', 'yellow'}"
      ]
     },
     "execution_count": 98,
     "metadata": {},
     "output_type": "execute_result"
    }
   ],
   "source": [
    "B"
   ]
  },
  {
   "cell_type": "code",
   "execution_count": 99,
   "id": "028f1f55",
   "metadata": {},
   "outputs": [],
   "source": [
    "B1 = {\"orange\",\"yellow\",\"red\",\"green\"}"
   ]
  },
  {
   "cell_type": "code",
   "execution_count": 100,
   "id": "f7b5da17",
   "metadata": {},
   "outputs": [],
   "source": [
    "B2 = {\"orange\",\"banana\",\"apple\"}"
   ]
  },
  {
   "cell_type": "code",
   "execution_count": 101,
   "id": "428ce9a3",
   "metadata": {},
   "outputs": [],
   "source": [
    "B3 = B1&B2"
   ]
  },
  {
   "cell_type": "code",
   "execution_count": 102,
   "id": "2db0f459",
   "metadata": {},
   "outputs": [
    {
     "data": {
      "text/plain": [
       "{'orange'}"
      ]
     },
     "execution_count": 102,
     "metadata": {},
     "output_type": "execute_result"
    }
   ],
   "source": [
    "B3"
   ]
  },
  {
   "cell_type": "code",
   "execution_count": 103,
   "id": "6007b6d8",
   "metadata": {},
   "outputs": [
    {
     "data": {
      "text/plain": [
       "{'apple', 'banana', 'green', 'orange', 'red', 'yellow'}"
      ]
     },
     "execution_count": 103,
     "metadata": {},
     "output_type": "execute_result"
    }
   ],
   "source": [
    "B1.union(B2)"
   ]
  },
  {
   "cell_type": "code",
   "execution_count": 104,
   "id": "a7ef2633",
   "metadata": {},
   "outputs": [],
   "source": [
    "B3 = {\"yellow\",\"green\"}"
   ]
  },
  {
   "cell_type": "code",
   "execution_count": 105,
   "id": "56c21a0d",
   "metadata": {},
   "outputs": [
    {
     "data": {
      "text/plain": [
       "True"
      ]
     },
     "execution_count": 105,
     "metadata": {},
     "output_type": "execute_result"
    }
   ],
   "source": [
    "B3.issubset(B1)"
   ]
  },
  {
   "cell_type": "code",
   "execution_count": 106,
   "id": "2306450d",
   "metadata": {},
   "outputs": [
    {
     "data": {
      "text/plain": [
       "{'Thriller': 1982,\n",
       " 'Back in Black': 1980,\n",
       " 'The Dark Side of the Moon': 1973,\n",
       " 'The Bodyguard': 1992}"
      ]
     },
     "execution_count": 106,
     "metadata": {},
     "output_type": "execute_result"
    }
   ],
   "source": [
    "{\"Thriller\":1982, \"Back in Black\": 1980, \"The Dark Side of the Moon\":1973, \"The Bodyguard\":1992}"
   ]
  },
  {
   "cell_type": "code",
   "execution_count": 107,
   "id": "38041832",
   "metadata": {},
   "outputs": [],
   "source": [
    "DICT = {\"Thriller\": 1982, \"Back in Black\": 1980, \"The Dark Side of the Moon\": 1973, \"The Bodyguard\": 1992}"
   ]
  },
  {
   "cell_type": "code",
   "execution_count": 108,
   "id": "fd692f83",
   "metadata": {},
   "outputs": [
    {
     "data": {
      "text/plain": [
       "1982"
      ]
     },
     "execution_count": 108,
     "metadata": {},
     "output_type": "execute_result"
    }
   ],
   "source": [
    "DICT[\"Thriller\"]"
   ]
  },
  {
   "cell_type": "code",
   "execution_count": 109,
   "id": "89f671ae",
   "metadata": {},
   "outputs": [
    {
     "data": {
      "text/plain": [
       "1980"
      ]
     },
     "execution_count": 109,
     "metadata": {},
     "output_type": "execute_result"
    }
   ],
   "source": [
    "DICT[\"Back in Black\"]"
   ]
  },
  {
   "cell_type": "code",
   "execution_count": 110,
   "id": "f9298302",
   "metadata": {},
   "outputs": [],
   "source": [
    "DICT[\"Graduation\"] = 2007"
   ]
  },
  {
   "cell_type": "code",
   "execution_count": 111,
   "id": "1ef6f681",
   "metadata": {},
   "outputs": [],
   "source": [
    "del(DICT[\"Thriller\"])"
   ]
  },
  {
   "cell_type": "code",
   "execution_count": 112,
   "id": "2798e478",
   "metadata": {},
   "outputs": [
    {
     "data": {
      "text/plain": [
       "True"
      ]
     },
     "execution_count": 112,
     "metadata": {},
     "output_type": "execute_result"
    }
   ],
   "source": [
    "\"The Bodyguard\" in DICT"
   ]
  },
  {
   "cell_type": "code",
   "execution_count": 113,
   "id": "7ad11c5b",
   "metadata": {},
   "outputs": [
    {
     "data": {
      "text/plain": [
       "False"
      ]
     },
     "execution_count": 113,
     "metadata": {},
     "output_type": "execute_result"
    }
   ],
   "source": [
    "\"Bella\" in DICT"
   ]
  },
  {
   "cell_type": "code",
   "execution_count": 119,
   "id": "fe8152dc",
   "metadata": {},
   "outputs": [
    {
     "data": {
      "text/plain": [
       "dict_keys(['Back in Black', 'The Dark Side of the Moon', 'The Bodyguard', 'Graduation'])"
      ]
     },
     "execution_count": 119,
     "metadata": {},
     "output_type": "execute_result"
    }
   ],
   "source": [
    "DICT.keys()"
   ]
  },
  {
   "cell_type": "code",
   "execution_count": 120,
   "id": "f34d103b",
   "metadata": {},
   "outputs": [
    {
     "data": {
      "text/plain": [
       "dict_values([1980, 1973, 1992, 2007])"
      ]
     },
     "execution_count": 120,
     "metadata": {},
     "output_type": "execute_result"
    }
   ],
   "source": [
    "DICT.values()"
   ]
  },
  {
   "cell_type": "code",
   "execution_count": null,
   "id": "c877ca74",
   "metadata": {},
   "outputs": [],
   "source": []
  }
 ],
 "metadata": {
  "kernelspec": {
   "display_name": "Python 3",
   "language": "python",
   "name": "python3"
  },
  "language_info": {
   "codemirror_mode": {
    "name": "ipython",
    "version": 3
   },
   "file_extension": ".py",
   "mimetype": "text/x-python",
   "name": "python",
   "nbconvert_exporter": "python",
   "pygments_lexer": "ipython3",
   "version": "3.8.8"
  }
 },
 "nbformat": 4,
 "nbformat_minor": 5
}
